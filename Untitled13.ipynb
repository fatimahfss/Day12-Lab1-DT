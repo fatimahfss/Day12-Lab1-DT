{
  "nbformat": 4,
  "nbformat_minor": 0,
  "metadata": {
    "colab": {
      "name": "Untitled13.ipynb",
      "provenance": []
    },
    "kernelspec": {
      "name": "python3",
      "display_name": "Python 3"
    },
    "language_info": {
      "name": "python"
    }
  },
  "cells": [
    {
      "cell_type": "code",
      "execution_count": 1,
      "metadata": {
        "id": "z9niNAtTg-zp"
      },
      "outputs": [],
      "source": [
        "# To ignore warnings\n",
        "import warnings\n",
        "warnings.filterwarnings(\"ignore\")\n",
        "import pandas as pd\n",
        "import numpy as np\n",
        "import matplotlib.pyplot as plt\n",
        "import seaborn as sns\n",
        "%matplotlib inline"
      ]
    },
    {
      "cell_type": "code",
      "source": [
        "df=pd.read_csv('/content/instagram_users.csv')\n",
        "df\n"
      ],
      "metadata": {
        "colab": {
          "base_uri": "https://localhost:8080/",
          "height": 488
        },
        "id": "_6U3IzK0sybQ",
        "outputId": "c91971fe-380f-43e1-ef0e-be27516b5082"
      },
      "execution_count": 3,
      "outputs": [
        {
          "output_type": "execute_result",
          "data": {
            "text/plain": [
              "        Num_posts  Num_following  Num_followers  Biography_length  \\\n",
              "0              44             48            325                33   \n",
              "1              10             66            321               150   \n",
              "2              33            970            308               101   \n",
              "3              70             86            360                14   \n",
              "4               3             21            285                73   \n",
              "...           ...            ...            ...               ...   \n",
              "64239          13            145            642                 0   \n",
              "64240         652           3000           1300               146   \n",
              "64241        1500           3700           3200               147   \n",
              "64242         329           1500           1800               218   \n",
              "64243         206            659            608                27   \n",
              "\n",
              "       Picture_availability  Link_availability  Average_caption_length  \\\n",
              "0                         1                  0                      12   \n",
              "1                         1                  0                     213   \n",
              "2                         1                  1                     436   \n",
              "3                         1                  0                       0   \n",
              "4                         1                  0                      93   \n",
              "...                     ...                ...                     ...   \n",
              "64239                     1                  0                       7   \n",
              "64240                     1                  1                     384   \n",
              "64241                     1                  1                     129   \n",
              "64242                     1                  1                     290   \n",
              "64243                     1                  0                      77   \n",
              "\n",
              "       Caption_zero  Non_image_percentage  Engagement_rate_like  \\\n",
              "0          0.000000                 0.000              0.000000   \n",
              "1          0.000000                 1.000             14.390000   \n",
              "2          0.000000                 1.000             10.100000   \n",
              "3          1.000000                 0.000              0.780000   \n",
              "4          0.000000                 0.000             14.290000   \n",
              "...             ...                   ...                   ...   \n",
              "64239      0.461538                 0.000             14.270000   \n",
              "64240      0.000000                 0.389              8.520000   \n",
              "64241      0.000000                 0.111              9.390000   \n",
              "64242      0.055556                 0.000              6.350000   \n",
              "64243      0.000000                 0.333             25.549999   \n",
              "\n",
              "       Engagement_rate_comment  Location_tag_percentage  \\\n",
              "0                         0.00                    0.000   \n",
              "1                         1.97                    0.000   \n",
              "2                         0.30                    0.000   \n",
              "3                         0.06                    0.000   \n",
              "4                         0.00                    0.667   \n",
              "...                        ...                      ...   \n",
              "64239                     0.58                    0.000   \n",
              "64240                     0.13                    0.000   \n",
              "64241                     0.31                    0.722   \n",
              "64242                     0.26                    0.222   \n",
              "64243                     0.53                    0.222   \n",
              "\n",
              "       Average_hashtag_count  Promotional_keywords  Followers_keywords  \\\n",
              "0                      0.000                   0.0               0.000   \n",
              "1                      1.500                   0.0               0.000   \n",
              "2                      2.500                   0.0               0.056   \n",
              "3                      0.000                   0.0               0.000   \n",
              "4                      0.000                   0.0               0.000   \n",
              "...                      ...                   ...                 ...   \n",
              "64239                  0.077                   0.0               0.000   \n",
              "64240                  1.611                   0.0               0.000   \n",
              "64241                  0.000                   0.0               0.056   \n",
              "64242                  0.500                   0.0               0.000   \n",
              "64243                  0.222                   0.0               0.167   \n",
              "\n",
              "       Cosine_similarity  Post_interval real_fake  \n",
              "0               0.111111       0.094985      fake  \n",
              "1               0.206826     230.412857      fake  \n",
              "2               0.572174      43.569939      fake  \n",
              "3               1.000000       5.859799      fake  \n",
              "4               0.300494       0.126019      fake  \n",
              "...                  ...            ...       ...  \n",
              "64239           0.192308    1745.291260      real  \n",
              "64240           0.169917      54.629120      real  \n",
              "64241           0.058908     129.802048      real  \n",
              "64242           0.103174      53.402840      real  \n",
              "64243           0.017505     604.981445      real  \n",
              "\n",
              "[64244 rows x 18 columns]"
            ],
            "text/html": [
              "\n",
              "  <div id=\"df-2a605fcc-1ae4-4195-9162-7b35d3f0c665\">\n",
              "    <div class=\"colab-df-container\">\n",
              "      <div>\n",
              "<style scoped>\n",
              "    .dataframe tbody tr th:only-of-type {\n",
              "        vertical-align: middle;\n",
              "    }\n",
              "\n",
              "    .dataframe tbody tr th {\n",
              "        vertical-align: top;\n",
              "    }\n",
              "\n",
              "    .dataframe thead th {\n",
              "        text-align: right;\n",
              "    }\n",
              "</style>\n",
              "<table border=\"1\" class=\"dataframe\">\n",
              "  <thead>\n",
              "    <tr style=\"text-align: right;\">\n",
              "      <th></th>\n",
              "      <th>Num_posts</th>\n",
              "      <th>Num_following</th>\n",
              "      <th>Num_followers</th>\n",
              "      <th>Biography_length</th>\n",
              "      <th>Picture_availability</th>\n",
              "      <th>Link_availability</th>\n",
              "      <th>Average_caption_length</th>\n",
              "      <th>Caption_zero</th>\n",
              "      <th>Non_image_percentage</th>\n",
              "      <th>Engagement_rate_like</th>\n",
              "      <th>Engagement_rate_comment</th>\n",
              "      <th>Location_tag_percentage</th>\n",
              "      <th>Average_hashtag_count</th>\n",
              "      <th>Promotional_keywords</th>\n",
              "      <th>Followers_keywords</th>\n",
              "      <th>Cosine_similarity</th>\n",
              "      <th>Post_interval</th>\n",
              "      <th>real_fake</th>\n",
              "    </tr>\n",
              "  </thead>\n",
              "  <tbody>\n",
              "    <tr>\n",
              "      <th>0</th>\n",
              "      <td>44</td>\n",
              "      <td>48</td>\n",
              "      <td>325</td>\n",
              "      <td>33</td>\n",
              "      <td>1</td>\n",
              "      <td>0</td>\n",
              "      <td>12</td>\n",
              "      <td>0.000000</td>\n",
              "      <td>0.000</td>\n",
              "      <td>0.000000</td>\n",
              "      <td>0.00</td>\n",
              "      <td>0.000</td>\n",
              "      <td>0.000</td>\n",
              "      <td>0.0</td>\n",
              "      <td>0.000</td>\n",
              "      <td>0.111111</td>\n",
              "      <td>0.094985</td>\n",
              "      <td>fake</td>\n",
              "    </tr>\n",
              "    <tr>\n",
              "      <th>1</th>\n",
              "      <td>10</td>\n",
              "      <td>66</td>\n",
              "      <td>321</td>\n",
              "      <td>150</td>\n",
              "      <td>1</td>\n",
              "      <td>0</td>\n",
              "      <td>213</td>\n",
              "      <td>0.000000</td>\n",
              "      <td>1.000</td>\n",
              "      <td>14.390000</td>\n",
              "      <td>1.97</td>\n",
              "      <td>0.000</td>\n",
              "      <td>1.500</td>\n",
              "      <td>0.0</td>\n",
              "      <td>0.000</td>\n",
              "      <td>0.206826</td>\n",
              "      <td>230.412857</td>\n",
              "      <td>fake</td>\n",
              "    </tr>\n",
              "    <tr>\n",
              "      <th>2</th>\n",
              "      <td>33</td>\n",
              "      <td>970</td>\n",
              "      <td>308</td>\n",
              "      <td>101</td>\n",
              "      <td>1</td>\n",
              "      <td>1</td>\n",
              "      <td>436</td>\n",
              "      <td>0.000000</td>\n",
              "      <td>1.000</td>\n",
              "      <td>10.100000</td>\n",
              "      <td>0.30</td>\n",
              "      <td>0.000</td>\n",
              "      <td>2.500</td>\n",
              "      <td>0.0</td>\n",
              "      <td>0.056</td>\n",
              "      <td>0.572174</td>\n",
              "      <td>43.569939</td>\n",
              "      <td>fake</td>\n",
              "    </tr>\n",
              "    <tr>\n",
              "      <th>3</th>\n",
              "      <td>70</td>\n",
              "      <td>86</td>\n",
              "      <td>360</td>\n",
              "      <td>14</td>\n",
              "      <td>1</td>\n",
              "      <td>0</td>\n",
              "      <td>0</td>\n",
              "      <td>1.000000</td>\n",
              "      <td>0.000</td>\n",
              "      <td>0.780000</td>\n",
              "      <td>0.06</td>\n",
              "      <td>0.000</td>\n",
              "      <td>0.000</td>\n",
              "      <td>0.0</td>\n",
              "      <td>0.000</td>\n",
              "      <td>1.000000</td>\n",
              "      <td>5.859799</td>\n",
              "      <td>fake</td>\n",
              "    </tr>\n",
              "    <tr>\n",
              "      <th>4</th>\n",
              "      <td>3</td>\n",
              "      <td>21</td>\n",
              "      <td>285</td>\n",
              "      <td>73</td>\n",
              "      <td>1</td>\n",
              "      <td>0</td>\n",
              "      <td>93</td>\n",
              "      <td>0.000000</td>\n",
              "      <td>0.000</td>\n",
              "      <td>14.290000</td>\n",
              "      <td>0.00</td>\n",
              "      <td>0.667</td>\n",
              "      <td>0.000</td>\n",
              "      <td>0.0</td>\n",
              "      <td>0.000</td>\n",
              "      <td>0.300494</td>\n",
              "      <td>0.126019</td>\n",
              "      <td>fake</td>\n",
              "    </tr>\n",
              "    <tr>\n",
              "      <th>...</th>\n",
              "      <td>...</td>\n",
              "      <td>...</td>\n",
              "      <td>...</td>\n",
              "      <td>...</td>\n",
              "      <td>...</td>\n",
              "      <td>...</td>\n",
              "      <td>...</td>\n",
              "      <td>...</td>\n",
              "      <td>...</td>\n",
              "      <td>...</td>\n",
              "      <td>...</td>\n",
              "      <td>...</td>\n",
              "      <td>...</td>\n",
              "      <td>...</td>\n",
              "      <td>...</td>\n",
              "      <td>...</td>\n",
              "      <td>...</td>\n",
              "      <td>...</td>\n",
              "    </tr>\n",
              "    <tr>\n",
              "      <th>64239</th>\n",
              "      <td>13</td>\n",
              "      <td>145</td>\n",
              "      <td>642</td>\n",
              "      <td>0</td>\n",
              "      <td>1</td>\n",
              "      <td>0</td>\n",
              "      <td>7</td>\n",
              "      <td>0.461538</td>\n",
              "      <td>0.000</td>\n",
              "      <td>14.270000</td>\n",
              "      <td>0.58</td>\n",
              "      <td>0.000</td>\n",
              "      <td>0.077</td>\n",
              "      <td>0.0</td>\n",
              "      <td>0.000</td>\n",
              "      <td>0.192308</td>\n",
              "      <td>1745.291260</td>\n",
              "      <td>real</td>\n",
              "    </tr>\n",
              "    <tr>\n",
              "      <th>64240</th>\n",
              "      <td>652</td>\n",
              "      <td>3000</td>\n",
              "      <td>1300</td>\n",
              "      <td>146</td>\n",
              "      <td>1</td>\n",
              "      <td>1</td>\n",
              "      <td>384</td>\n",
              "      <td>0.000000</td>\n",
              "      <td>0.389</td>\n",
              "      <td>8.520000</td>\n",
              "      <td>0.13</td>\n",
              "      <td>0.000</td>\n",
              "      <td>1.611</td>\n",
              "      <td>0.0</td>\n",
              "      <td>0.000</td>\n",
              "      <td>0.169917</td>\n",
              "      <td>54.629120</td>\n",
              "      <td>real</td>\n",
              "    </tr>\n",
              "    <tr>\n",
              "      <th>64241</th>\n",
              "      <td>1500</td>\n",
              "      <td>3700</td>\n",
              "      <td>3200</td>\n",
              "      <td>147</td>\n",
              "      <td>1</td>\n",
              "      <td>1</td>\n",
              "      <td>129</td>\n",
              "      <td>0.000000</td>\n",
              "      <td>0.111</td>\n",
              "      <td>9.390000</td>\n",
              "      <td>0.31</td>\n",
              "      <td>0.722</td>\n",
              "      <td>0.000</td>\n",
              "      <td>0.0</td>\n",
              "      <td>0.056</td>\n",
              "      <td>0.058908</td>\n",
              "      <td>129.802048</td>\n",
              "      <td>real</td>\n",
              "    </tr>\n",
              "    <tr>\n",
              "      <th>64242</th>\n",
              "      <td>329</td>\n",
              "      <td>1500</td>\n",
              "      <td>1800</td>\n",
              "      <td>218</td>\n",
              "      <td>1</td>\n",
              "      <td>1</td>\n",
              "      <td>290</td>\n",
              "      <td>0.055556</td>\n",
              "      <td>0.000</td>\n",
              "      <td>6.350000</td>\n",
              "      <td>0.26</td>\n",
              "      <td>0.222</td>\n",
              "      <td>0.500</td>\n",
              "      <td>0.0</td>\n",
              "      <td>0.000</td>\n",
              "      <td>0.103174</td>\n",
              "      <td>53.402840</td>\n",
              "      <td>real</td>\n",
              "    </tr>\n",
              "    <tr>\n",
              "      <th>64243</th>\n",
              "      <td>206</td>\n",
              "      <td>659</td>\n",
              "      <td>608</td>\n",
              "      <td>27</td>\n",
              "      <td>1</td>\n",
              "      <td>0</td>\n",
              "      <td>77</td>\n",
              "      <td>0.000000</td>\n",
              "      <td>0.333</td>\n",
              "      <td>25.549999</td>\n",
              "      <td>0.53</td>\n",
              "      <td>0.222</td>\n",
              "      <td>0.222</td>\n",
              "      <td>0.0</td>\n",
              "      <td>0.167</td>\n",
              "      <td>0.017505</td>\n",
              "      <td>604.981445</td>\n",
              "      <td>real</td>\n",
              "    </tr>\n",
              "  </tbody>\n",
              "</table>\n",
              "<p>64244 rows × 18 columns</p>\n",
              "</div>\n",
              "      <button class=\"colab-df-convert\" onclick=\"convertToInteractive('df-2a605fcc-1ae4-4195-9162-7b35d3f0c665')\"\n",
              "              title=\"Convert this dataframe to an interactive table.\"\n",
              "              style=\"display:none;\">\n",
              "        \n",
              "  <svg xmlns=\"http://www.w3.org/2000/svg\" height=\"24px\"viewBox=\"0 0 24 24\"\n",
              "       width=\"24px\">\n",
              "    <path d=\"M0 0h24v24H0V0z\" fill=\"none\"/>\n",
              "    <path d=\"M18.56 5.44l.94 2.06.94-2.06 2.06-.94-2.06-.94-.94-2.06-.94 2.06-2.06.94zm-11 1L8.5 8.5l.94-2.06 2.06-.94-2.06-.94L8.5 2.5l-.94 2.06-2.06.94zm10 10l.94 2.06.94-2.06 2.06-.94-2.06-.94-.94-2.06-.94 2.06-2.06.94z\"/><path d=\"M17.41 7.96l-1.37-1.37c-.4-.4-.92-.59-1.43-.59-.52 0-1.04.2-1.43.59L10.3 9.45l-7.72 7.72c-.78.78-.78 2.05 0 2.83L4 21.41c.39.39.9.59 1.41.59.51 0 1.02-.2 1.41-.59l7.78-7.78 2.81-2.81c.8-.78.8-2.07 0-2.86zM5.41 20L4 18.59l7.72-7.72 1.47 1.35L5.41 20z\"/>\n",
              "  </svg>\n",
              "      </button>\n",
              "      \n",
              "  <style>\n",
              "    .colab-df-container {\n",
              "      display:flex;\n",
              "      flex-wrap:wrap;\n",
              "      gap: 12px;\n",
              "    }\n",
              "\n",
              "    .colab-df-convert {\n",
              "      background-color: #E8F0FE;\n",
              "      border: none;\n",
              "      border-radius: 50%;\n",
              "      cursor: pointer;\n",
              "      display: none;\n",
              "      fill: #1967D2;\n",
              "      height: 32px;\n",
              "      padding: 0 0 0 0;\n",
              "      width: 32px;\n",
              "    }\n",
              "\n",
              "    .colab-df-convert:hover {\n",
              "      background-color: #E2EBFA;\n",
              "      box-shadow: 0px 1px 2px rgba(60, 64, 67, 0.3), 0px 1px 3px 1px rgba(60, 64, 67, 0.15);\n",
              "      fill: #174EA6;\n",
              "    }\n",
              "\n",
              "    [theme=dark] .colab-df-convert {\n",
              "      background-color: #3B4455;\n",
              "      fill: #D2E3FC;\n",
              "    }\n",
              "\n",
              "    [theme=dark] .colab-df-convert:hover {\n",
              "      background-color: #434B5C;\n",
              "      box-shadow: 0px 1px 3px 1px rgba(0, 0, 0, 0.15);\n",
              "      filter: drop-shadow(0px 1px 2px rgba(0, 0, 0, 0.3));\n",
              "      fill: #FFFFFF;\n",
              "    }\n",
              "  </style>\n",
              "\n",
              "      <script>\n",
              "        const buttonEl =\n",
              "          document.querySelector('#df-2a605fcc-1ae4-4195-9162-7b35d3f0c665 button.colab-df-convert');\n",
              "        buttonEl.style.display =\n",
              "          google.colab.kernel.accessAllowed ? 'block' : 'none';\n",
              "\n",
              "        async function convertToInteractive(key) {\n",
              "          const element = document.querySelector('#df-2a605fcc-1ae4-4195-9162-7b35d3f0c665');\n",
              "          const dataTable =\n",
              "            await google.colab.kernel.invokeFunction('convertToInteractive',\n",
              "                                                     [key], {});\n",
              "          if (!dataTable) return;\n",
              "\n",
              "          const docLinkHtml = 'Like what you see? Visit the ' +\n",
              "            '<a target=\"_blank\" href=https://colab.research.google.com/notebooks/data_table.ipynb>data table notebook</a>'\n",
              "            + ' to learn more about interactive tables.';\n",
              "          element.innerHTML = '';\n",
              "          dataTable['output_type'] = 'display_data';\n",
              "          await google.colab.output.renderOutput(dataTable, element);\n",
              "          const docLink = document.createElement('div');\n",
              "          docLink.innerHTML = docLinkHtml;\n",
              "          element.appendChild(docLink);\n",
              "        }\n",
              "      </script>\n",
              "    </div>\n",
              "  </div>\n",
              "  "
            ]
          },
          "metadata": {},
          "execution_count": 3
        }
      ]
    },
    {
      "cell_type": "code",
      "source": [
        "from sklearn.model_selection import train_test_split\n",
        "X=df.drop('real_fake', axis=1)\n",
        "y=df['real_fake']"
      ],
      "metadata": {
        "id": "uhqk1mcTtMIa"
      },
      "execution_count": 6,
      "outputs": []
    },
    {
      "cell_type": "code",
      "source": [
        "X_train, X_test, y_train, y_test = train_test_split(X, y, test_size=0.30)"
      ],
      "metadata": {
        "id": "P63zVb4suZny"
      },
      "execution_count": 7,
      "outputs": []
    },
    {
      "cell_type": "code",
      "source": [
        "from sklearn.tree import DecisionTreeClassifier\n",
        "dftree=DecisionTreeClassifier()"
      ],
      "metadata": {
        "id": "iGfCDVoJul9A"
      },
      "execution_count": 9,
      "outputs": []
    },
    {
      "cell_type": "code",
      "source": [
        "dftree.fit(X_train,y_train)"
      ],
      "metadata": {
        "colab": {
          "base_uri": "https://localhost:8080/"
        },
        "id": "fWPAlAuNvEfm",
        "outputId": "3b7bcf58-5fb6-4b07-c47a-f739e0f25a71"
      },
      "execution_count": 10,
      "outputs": [
        {
          "output_type": "execute_result",
          "data": {
            "text/plain": [
              "DecisionTreeClassifier()"
            ]
          },
          "metadata": {},
          "execution_count": 10
        }
      ]
    },
    {
      "cell_type": "code",
      "source": [
        "predict=dftree.predict(X_test)"
      ],
      "metadata": {
        "id": "PMaBk8UIvRws"
      },
      "execution_count": 13,
      "outputs": []
    },
    {
      "cell_type": "code",
      "source": [
        "from sklearn.metrics import classification_report,confusion_matrix, accuracy_score"
      ],
      "metadata": {
        "id": "--yunZQOvnr_"
      },
      "execution_count": 14,
      "outputs": []
    },
    {
      "cell_type": "code",
      "source": [
        "print(classification_report(y_test,predict))"
      ],
      "metadata": {
        "colab": {
          "base_uri": "https://localhost:8080/"
        },
        "id": "k_oyq0gcvyEB",
        "outputId": "68fe4151-0118-4c34-df7f-e8c1eb1939e5"
      },
      "execution_count": 15,
      "outputs": [
        {
          "output_type": "stream",
          "name": "stdout",
          "text": [
            "              precision    recall  f1-score   support\n",
            "\n",
            "        fake       0.85      0.86      0.85      9577\n",
            "        real       0.86      0.85      0.85      9697\n",
            "\n",
            "    accuracy                           0.85     19274\n",
            "   macro avg       0.85      0.85      0.85     19274\n",
            "weighted avg       0.85      0.85      0.85     19274\n",
            "\n"
          ]
        }
      ]
    },
    {
      "cell_type": "code",
      "source": [
        "print(confusion_matrix(y_test,predict))"
      ],
      "metadata": {
        "colab": {
          "base_uri": "https://localhost:8080/"
        },
        "id": "Dkh68yCav9MY",
        "outputId": "4db37cf0-646e-4ce2-d904-3510151d90f6"
      },
      "execution_count": 16,
      "outputs": [
        {
          "output_type": "stream",
          "name": "stdout",
          "text": [
            "[[8231 1346]\n",
            " [1454 8243]]\n"
          ]
        }
      ]
    },
    {
      "cell_type": "code",
      "source": [
        "print(accuracy_score(y_test,predict))"
      ],
      "metadata": {
        "colab": {
          "base_uri": "https://localhost:8080/"
        },
        "id": "uUM6I0lrwBEc",
        "outputId": "35e455de-f572-4a3a-9208-2fd678771bd0"
      },
      "execution_count": 17,
      "outputs": [
        {
          "output_type": "stream",
          "name": "stdout",
          "text": [
            "0.854726574660164\n"
          ]
        }
      ]
    },
    {
      "cell_type": "code",
      "source": [
        "from sklearn.metrics import plot_confusion_matrix\n",
        "plot_confusion_matrix(dftree, X_test, y_test)  \n",
        "plt.show()"
      ],
      "metadata": {
        "colab": {
          "base_uri": "https://localhost:8080/",
          "height": 279
        },
        "id": "Gxelb5w-wRc0",
        "outputId": "99676373-ff44-4e33-d1b4-6ea10c195d7b"
      },
      "execution_count": 19,
      "outputs": [
        {
          "output_type": "display_data",
          "data": {
            "text/plain": [
              "<Figure size 432x288 with 2 Axes>"
            ],
            "image/png": "[encoded data removed]"
          },
          "metadata": {
            "needs_background": "light"
          }
        }
      ]
    },
    {
      "cell_type": "code",
      "source": [
        "from sklearn.ensemble import RandomForestClassifier\n",
        "dfrf=RandomForestClassifier(n_estimators=100)\n",
        "dfrf.fit(X_train, y_train)"
      ],
      "metadata": {
        "colab": {
          "base_uri": "https://localhost:8080/"
        },
        "id": "TO8UMFGRwV2S",
        "outputId": "78cbef45-a9ff-4b5c-bac4-f70431942079"
      },
      "execution_count": 20,
      "outputs": [
        {
          "output_type": "execute_result",
          "data": {
            "text/plain": [
              "RandomForestClassifier()"
            ]
          },
          "metadata": {},
          "execution_count": 20
        }
      ]
    },
    {
      "cell_type": "code",
      "source": [
        "predict_rf=dfrf.predict(X_test)"
      ],
      "metadata": {
        "id": "foQSvhk7xRPn"
      },
      "execution_count": 21,
      "outputs": []
    },
    {
      "cell_type": "code",
      "source": [
        "print(confusion_matrix(y_test,predict_rf))"
      ],
      "metadata": {
        "colab": {
          "base_uri": "https://localhost:8080/"
        },
        "id": "RKR1PSEWyFvl",
        "outputId": "65416397-bf16-46a3-d22c-22e6f8b27604"
      },
      "execution_count": 22,
      "outputs": [
        {
          "output_type": "stream",
          "name": "stdout",
          "text": [
            "[[8049 1528]\n",
            " [ 396 9301]]\n"
          ]
        }
      ]
    },
    {
      "cell_type": "code",
      "source": [
        "plot_confusion_matrix(dfrf, X_test, y_test)  \n",
        "plt.show()"
      ],
      "metadata": {
        "colab": {
          "base_uri": "https://localhost:8080/",
          "height": 279
        },
        "id": "eAveLgmDyNW5",
        "outputId": "9377568a-fedb-491d-b091-4e62537052c3"
      },
      "execution_count": 24,
      "outputs": [
        {
          "output_type": "display_data",
          "data": {
            "text/plain": [
              "<Figure size 432x288 with 2 Axes>"
            ],
            "image/png": "[encoded data removed]"
          },
          "metadata": {
            "needs_background": "light"
          }
        }
      ]
    },
    {
      "cell_type": "code",
      "source": [
        "print(classification_report(y_test,predict_rf))"
      ],
      "metadata": {
        "colab": {
          "base_uri": "https://localhost:8080/"
        },
        "id": "JosnXr0CySMW",
        "outputId": "84c9b28c-1c9b-477f-8f00-21e9de06f3be"
      },
      "execution_count": 25,
      "outputs": [
        {
          "output_type": "stream",
          "name": "stdout",
          "text": [
            "              precision    recall  f1-score   support\n",
            "\n",
            "        fake       0.95      0.84      0.89      9577\n",
            "        real       0.86      0.96      0.91      9697\n",
            "\n",
            "    accuracy                           0.90     19274\n",
            "   macro avg       0.91      0.90      0.90     19274\n",
            "weighted avg       0.91      0.90      0.90     19274\n",
            "\n"
          ]
        }
      ]
    },
    {
      "cell_type": "code",
      "source": [
        "print(accuracy_score(y_test,predict_rf))"
      ],
      "metadata": {
        "colab": {
          "base_uri": "https://localhost:8080/"
        },
        "id": "rOQ1l0nUyUa2",
        "outputId": "7593cf53-feda-4b24-b2e2-f445b4cb1be4"
      },
      "execution_count": 26,
      "outputs": [
        {
          "output_type": "stream",
          "name": "stdout",
          "text": [
            "0.9001764034450556\n"
          ]
        }
      ]
    },
    {
      "cell_type": "code",
      "source": [
        "from sklearn.linear_model import LogisticRegression\n",
        "dflr = LogisticRegression(random_state=0).fit(X_train,y_train)\n"
      ],
      "metadata": {
        "id": "dtUm4n6uyhW5"
      },
      "execution_count": 28,
      "outputs": []
    },
    {
      "cell_type": "code",
      "source": [
        "dflr_predict=dflr.predict(X_test)"
      ],
      "metadata": {
        "id": "8gWU1gtD0vxc"
      },
      "execution_count": 30,
      "outputs": []
    },
    {
      "cell_type": "code",
      "source": [
        "print(confusion_matrix(y_test,dflr_predict))"
      ],
      "metadata": {
        "colab": {
          "base_uri": "https://localhost:8080/"
        },
        "id": "jr01TdIW0-qY",
        "outputId": "9dbf59aa-9282-4bd3-b266-4696c14051d9"
      },
      "execution_count": 31,
      "outputs": [
        {
          "output_type": "stream",
          "name": "stdout",
          "text": [
            "[[6719 2858]\n",
            " [1723 7974]]\n"
          ]
        }
      ]
    },
    {
      "cell_type": "code",
      "source": [
        "plot_confusion_matrix(dflr, X_test, y_test)  \n",
        "plt.show()"
      ],
      "metadata": {
        "colab": {
          "base_uri": "https://localhost:8080/",
          "height": 279
        },
        "id": "AFSbbS0-0_Oj",
        "outputId": "31df3267-1253-443a-b730-a5fb19c3dd28"
      },
      "execution_count": 32,
      "outputs": [
        {
          "output_type": "display_data",
          "data": {
            "text/plain": [
              "<Figure size 432x288 with 2 Axes>"
            ],
            "image/png": "[encoded data removed]"
          },
          "metadata": {
            "needs_background": "light"
          }
        }
      ]
    },
    {
      "cell_type": "code",
      "source": [
        "print(confusion_matrix(y_test,dflr_predict))"
      ],
      "metadata": {
        "colab": {
          "base_uri": "https://localhost:8080/"
        },
        "id": "-CcJ-DA21HI7",
        "outputId": "28a6ac22-f630-4842-bbb4-f09a0e996861"
      },
      "execution_count": 33,
      "outputs": [
        {
          "output_type": "stream",
          "name": "stdout",
          "text": [
            "[[6719 2858]\n",
            " [1723 7974]]\n"
          ]
        }
      ]
    },
    {
      "cell_type": "code",
      "source": [
        "print(classification_report(y_test,dflr_predict))"
      ],
      "metadata": {
        "colab": {
          "base_uri": "https://localhost:8080/"
        },
        "id": "I1Lnitlk1HeA",
        "outputId": "588acf65-5d08-4ee3-e93b-46d74c9f7060"
      },
      "execution_count": 34,
      "outputs": [
        {
          "output_type": "stream",
          "name": "stdout",
          "text": [
            "              precision    recall  f1-score   support\n",
            "\n",
            "        fake       0.80      0.70      0.75      9577\n",
            "        real       0.74      0.82      0.78      9697\n",
            "\n",
            "    accuracy                           0.76     19274\n",
            "   macro avg       0.77      0.76      0.76     19274\n",
            "weighted avg       0.77      0.76      0.76     19274\n",
            "\n"
          ]
        }
      ]
    },
    {
      "cell_type": "code",
      "source": [
        "print(accuracy_score(y_test,dflr_predict))"
      ],
      "metadata": {
        "colab": {
          "base_uri": "https://localhost:8080/"
        },
        "id": "BvOumuSs1HrL",
        "outputId": "48b88053-3007-4ad5-c441-2ab41640efca"
      },
      "execution_count": 35,
      "outputs": [
        {
          "output_type": "stream",
          "name": "stdout",
          "text": [
            "0.7623222994707897\n"
          ]
        }
      ]
    }
  ]
}